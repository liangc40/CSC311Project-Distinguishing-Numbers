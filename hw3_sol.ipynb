{
  "nbformat": 4,
  "nbformat_minor": 0,
  "metadata": {
    "colab": {
      "name": "hw3_sol.ipynb",
      "provenance": [],
      "collapsed_sections": [],
      "toc_visible": true
    },
    "kernelspec": {
      "name": "python3",
      "display_name": "Python 3"
    }
  },
  "cells": [
    {
      "cell_type": "code",
      "metadata": {
        "id": "ZlqxXr6OrBO2",
        "colab_type": "code",
        "outputId": "4f187eda-f24e-422d-8dff-97ab786c2f1c",
        "colab": {
          "base_uri": "https://localhost:8080/",
          "height": 122
        }
      },
      "source": [
        "from google.colab import drive\n",
        "drive.mount('/content/drive')"
      ],
      "execution_count": 0,
      "outputs": [
        {
          "output_type": "stream",
          "text": [
            "Go to this URL in a browser: https://accounts.google.com/o/oauth2/auth?client_id=947318989803-6bn6qk8qdgf4n4g3pfee6491hc0brc4i.apps.googleusercontent.com&redirect_uri=urn%3aietf%3awg%3aoauth%3a2.0%3aoob&response_type=code&scope=email%20https%3a%2f%2fwww.googleapis.com%2fauth%2fdocs.test%20https%3a%2f%2fwww.googleapis.com%2fauth%2fdrive%20https%3a%2f%2fwww.googleapis.com%2fauth%2fdrive.photos.readonly%20https%3a%2f%2fwww.googleapis.com%2fauth%2fpeopleapi.readonly\n",
            "\n",
            "Enter your authorization code:\n",
            "··········\n",
            "Mounted at /content/drive\n"
          ],
          "name": "stdout"
        }
      ]
    },
    {
      "cell_type": "markdown",
      "metadata": {
        "id": "Gkaz1_1MXemw",
        "colab_type": "text"
      },
      "source": [
        "# Question 1"
      ]
    },
    {
      "cell_type": "markdown",
      "metadata": {
        "id": "CrflQ4vHXkSw",
        "colab_type": "text"
      },
      "source": [
        "## (a)"
      ]
    },
    {
      "cell_type": "markdown",
      "metadata": {
        "id": "boC48Uh1iA9E",
        "colab_type": "text"
      },
      "source": [
        "![替代文字](https://drive.google.com/uc?id=14kn-LCxKecDpjcZyfNmYzPfSleIJa9mJ)\n",
        "\n"
      ]
    },
    {
      "cell_type": "markdown",
      "metadata": {
        "id": "TKbwH6k2XoS2",
        "colab_type": "text"
      },
      "source": [
        "## (b) (c)"
      ]
    },
    {
      "cell_type": "markdown",
      "metadata": {
        "id": "_m0piQc0lkqN",
        "colab_type": "text"
      },
      "source": [
        "![替代文字](https://drive.google.com/uc?id=1eKSktP_sX4OdLpUaKl9dGznFUQOE7kP0)"
      ]
    },
    {
      "cell_type": "markdown",
      "metadata": {
        "id": "lUY3m3hkUGxD",
        "colab_type": "text"
      },
      "source": [
        "### Step 1 load data"
      ]
    },
    {
      "cell_type": "code",
      "metadata": {
        "id": "ozyplIUyKmo7",
        "colab_type": "code",
        "colab": {}
      },
      "source": [
        "from __future__ import absolute_import\n",
        "from __future__ import print_function\n",
        "from future.standard_library import install_aliases\n",
        "install_aliases()\n",
        "import numpy as np\n",
        "import os\n",
        "import gzip\n",
        "import struct\n",
        "import array\n",
        "import matplotlib.pyplot as plt\n",
        "import matplotlib.image\n",
        "from urllib.request import urlretrieve\n",
        "from scipy.special import logsumexp\n",
        "from IPython.display import display, Math, Latex"
      ],
      "execution_count": 0,
      "outputs": []
    },
    {
      "cell_type": "code",
      "metadata": {
        "id": "vXc5r83DrulO",
        "colab_type": "code",
        "outputId": "e712382c-80ce-428b-8de1-2b429f8e9f8f",
        "colab": {
          "base_uri": "https://localhost:8080/",
          "height": 102
        }
      },
      "source": [
        "def download(url, filename):\n",
        "    if not os.path.exists('data'):\n",
        "        os.makedirs('data')\n",
        "    out_file = os.path.join('data', filename)\n",
        "    if not os.path.isfile(out_file):\n",
        "        urlretrieve(url, out_file)\n",
        "\n",
        "\n",
        "def mnist():\n",
        "    base_url = 'http://yann.lecun.com/exdb/mnist/'\n",
        "\n",
        "    def parse_labels(filename):\n",
        "        with gzip.open(filename, 'rb') as fh:\n",
        "            magic, num_data = struct.unpack(\">II\", fh.read(8))\n",
        "            return np.array(array.array(\"B\", fh.read()), dtype=np.uint8)\n",
        "\n",
        "    def parse_images(filename):\n",
        "        with gzip.open(filename, 'rb') as fh:\n",
        "            magic, num_data, rows, cols = struct.unpack(\">IIII\", fh.read(16))\n",
        "            return np.array(array.array(\"B\", fh.read()), dtype=np.uint8).reshape(num_data, rows, cols)\n",
        "\n",
        "    for filename in ['train-images-idx3-ubyte.gz',\n",
        "                     'train-labels-idx1-ubyte.gz',\n",
        "                     't10k-images-idx3-ubyte.gz',\n",
        "                     't10k-labels-idx1-ubyte.gz']:\n",
        "        download(base_url + filename, filename)\n",
        "\n",
        "    train_images = parse_images('data/train-images-idx3-ubyte.gz')\n",
        "    train_labels = parse_labels('data/train-labels-idx1-ubyte.gz')\n",
        "    test_images = parse_images('data/t10k-images-idx3-ubyte.gz')\n",
        "    test_labels = parse_labels('data/t10k-labels-idx1-ubyte.gz')\n",
        "\n",
        "    return train_images, train_labels, test_images[:1000], test_labels[:1000]\n",
        "\n",
        "\n",
        "def load_mnist():\n",
        "    partial_flatten = lambda x: np.reshape(x, (x.shape[0], np.prod(x.shape[1:])))\n",
        "    one_hot = lambda x, k: np.array(x[:, None] == np.arange(k)[None, :], dtype=int)\n",
        "    train_images, train_labels, test_images, test_labels = mnist()\n",
        "    train_images = (partial_flatten(train_images) / 255.0 > .5).astype(float)\n",
        "    test_images = (partial_flatten(test_images) / 255.0 > .5).astype(float)\n",
        "    train_labels = one_hot(train_labels, 10)\n",
        "    test_labels = one_hot(test_labels, 10)\n",
        "    N_data = train_images.shape[0]\n",
        "\n",
        "    return N_data, train_images, train_labels, test_images, test_labels\n",
        "\n",
        "\n",
        "def plot_images(images, ax, ims_per_row=5, padding=5, digit_dimensions=(28, 28),\n",
        "                cmap=matplotlib.cm.binary, vmin=None, vmax=None):\n",
        "    \"\"\"Images should be a (N_images x pixels) matrix.\"\"\"\n",
        "    N_images = images.shape[0]\n",
        "    N_rows = np.int32(np.ceil(float(N_images) / ims_per_row))\n",
        "    pad_value = np.min(images.ravel())\n",
        "    concat_images = np.full(((digit_dimensions[0] + padding) * N_rows + padding,\n",
        "                             (digit_dimensions[1] + padding) * ims_per_row + padding), pad_value)\n",
        "    for i in range(N_images):\n",
        "        cur_image = np.reshape(images[i, :], digit_dimensions)\n",
        "        row_ix = i // ims_per_row\n",
        "        col_ix = i % ims_per_row\n",
        "        row_start = padding + (padding + digit_dimensions[0]) * row_ix\n",
        "        col_start = padding + (padding + digit_dimensions[1]) * col_ix\n",
        "        concat_images[row_start: row_start + digit_dimensions[0],\n",
        "                      col_start: col_start + digit_dimensions[1]] = cur_image\n",
        "        cax = ax.matshow(concat_images, cmap=cmap, vmin=vmin, vmax=vmax)\n",
        "        plt.xticks(np.array([]))\n",
        "        plt.yticks(np.array([]))\n",
        "    return cax\n",
        "\n",
        "\n",
        "def save_images(images, filename, **kwargs):\n",
        "    fig = plt.figure(1)\n",
        "    fig.clf()\n",
        "    ax = fig.add_subplot(111)\n",
        "    plot_images(images, ax, **kwargs)\n",
        "    fig.patch.set_visible(False)\n",
        "    ax.patch.set_visible(False)\n",
        "    plt.savefig(filename)\n",
        "\n",
        "if __name__ == '__main__':\n",
        "    N_data, train_images, train_labels, test_images, test_labels = load_mnist()\n",
        "    print(N_data)\n",
        "    print(train_images.shape)\n",
        "    print(train_labels.shape)\n",
        "    print(test_images.shape)\n",
        "    print(test_labels.shape)"
      ],
      "execution_count": 0,
      "outputs": [
        {
          "output_type": "stream",
          "text": [
            "60000\n",
            "(60000, 784)\n",
            "(60000, 10)\n",
            "(1000, 784)\n",
            "(1000, 10)\n"
          ],
          "name": "stdout"
        }
      ]
    },
    {
      "cell_type": "markdown",
      "metadata": {
        "id": "BpggE31EYDV0",
        "colab_type": "text"
      },
      "source": [
        "### Step 2: According to question a, complete train_mle_estimator function"
      ]
    },
    {
      "cell_type": "code",
      "metadata": {
        "id": "_hzMJcR2r2bJ",
        "colab_type": "code",
        "colab": {}
      },
      "source": [
        "def train_mle_estimator(train_images, train_labels):\n",
        "    \"\"\" Inputs: train_images, train_labels\n",
        "        Returns the MLE estimators theta_mle and pi_mle\"\"\"\n",
        "    N, D = train_images.shape\n",
        "    theta_mle = np.zeros((10, D))\n",
        "    pi_mle = np.zeros(10)\n",
        "\n",
        "    for i in range(10):\n",
        "      pi_mle[i] = sum(train_labels[:, i]) / N\n",
        "\n",
        "    for c in range(10):\n",
        "        for d in range(D):\n",
        "            theta_mle[c][d] = (1 + (np.sum(np.where((train_images[:, d] == 1) & (train_labels[:, c] == 1),\n",
        "                 1, 0))))/ (2 +(np.sum(train_labels[:, c])))\n",
        "    \n",
        "\n",
        "    return theta_mle, pi_mle"
      ],
      "execution_count": 0,
      "outputs": []
    },
    {
      "cell_type": "markdown",
      "metadata": {
        "id": "_mVY-eomYcA0",
        "colab_type": "text"
      },
      "source": [
        "### Step3: Write log-likehood function according to the equation derived"
      ]
    },
    {
      "cell_type": "code",
      "metadata": {
        "id": "ec20he5YWXcr",
        "colab_type": "code",
        "colab": {}
      },
      "source": [
        "def log_likelihood_with_loop(images, theta, pi, train_labels):\n",
        "    N, D = images.shape\n",
        "    log_like = np.zeros((N, 10))\n",
        "\n",
        "    for i in range(N):\n",
        "        for c in range(10):\n",
        "            if train_labels[i][c] != 1:\n",
        "                log_like[i][c] -= np.log(pi[c])\n",
        "                for d in range(D):\n",
        "                    log_like[i][c] -= images[i][d] * np.log(theta[c][d])\n",
        "                    log_like[i][c] -= np.log(1 - theta[c][d]) * (1 - images[i][d])\n",
        "    return log_like"
      ],
      "execution_count": 0,
      "outputs": []
    },
    {
      "cell_type": "markdown",
      "metadata": {
        "id": "-rP7_xSbfecN",
        "colab_type": "text"
      },
      "source": [
        "### Problem 1: \n",
        "since there are so many layers of loop in this function, it would drastically slow down the running speed of the program. "
      ]
    },
    {
      "cell_type": "code",
      "metadata": {
        "id": "w5-ViRoWDyu6",
        "colab_type": "code",
        "outputId": "b718a260-7e33-4edd-a5c6-6d5988be5d19",
        "colab": {
          "base_uri": "https://localhost:8080/",
          "height": 51
        }
      },
      "source": [
        "def log_likelihood(images, theta, pi, train_labels):\n",
        "    \"\"\" Inputs: images, theta, pi\n",
        "        Returns the matrix 'log_like' of loglikehoods over the input images where\n",
        "    log_like[i,c] = log p (c |x^(i), theta, pi) using the estimators theta and pi.\n",
        "    log_like is a matrix of num of images x num of classes\n",
        "    Note that log likelihood is not only for c^(i), it is for all possible c's.\"\"\"\n",
        "\n",
        "    N = images.shape[0]\n",
        "    C, D = theta.shape\n",
        "\n",
        "    log_like = np.zeros((N, C))\n",
        "\n",
        "    for i in range(N):\n",
        "        bern = np.where(images[i] > 0.5, theta, 1- theta)\n",
        "        temp = np.log(pi) +np.sum(np.log(bern), axis = 1)\n",
        "        log_like[i] = temp - logsumexp(temp)\n",
        "    return log_like\n",
        "\n",
        "def average_log_likelihood(images, theta, pi, train_labels):\n",
        "    log_like = log_likelihood(images, theta, pi, train_labels)\n",
        "    average_log_like = np.average(log_like, axis = 0)\n",
        "    return average_log_like\n",
        "\n",
        "if __name__ == '__main__':\n",
        "    N_data, train_images, train_labels, test_images, test_labels = load_mnist()\n",
        "    theta_mle, pi_mle = train_mle_estimator(train_images, train_labels)\n",
        "    avg_loglike_mle = average_log_likelihood(train_images, theta_mle, pi_mle, train_labels)\n",
        "    print(avg_loglike_mle)"
      ],
      "execution_count": 0,
      "outputs": [
        {
          "output_type": "stream",
          "text": [
            "[-109.28662699 -181.68961943  -72.47438253  -72.9793892   -73.12914282\n",
            "  -55.01175952  -94.88549624 -105.08574599  -59.50921323  -81.3683617 ]\n"
          ],
          "name": "stdout"
        }
      ]
    },
    {
      "cell_type": "markdown",
      "metadata": {
        "id": "f3zXiDSWr4sl",
        "colab_type": "text"
      },
      "source": [
        "Problem 2: Notice that if we don't handle the situation for log0, the system would report \"RuntimeWarning: divide by zero encountered in log\", and the result would be -inf. In this case, we should make some minor edit on the log-likelihood function to avoid the sitation of log0. "
      ]
    },
    {
      "cell_type": "markdown",
      "metadata": {
        "id": "Sy_e5fEzf6Xo",
        "colab_type": "text"
      },
      "source": [
        "## (d)\n",
        "Now we plot the MLE estimator $\\hat{\\theta}$ as 10 separate greyscale images, one for each class."
      ]
    },
    {
      "cell_type": "code",
      "metadata": {
        "id": "GOvvCY4QCSYv",
        "colab_type": "code",
        "outputId": "a4602045-bb1c-4892-d114-2515d1f4a5c3",
        "colab": {
          "base_uri": "https://localhost:8080/",
          "height": 195
        }
      },
      "source": [
        "if __name__ == '__main__': \n",
        "  N_data, train_images, train_labels, test_images, test_labels = load_mnist()\n",
        "  theta_mle, pi_mle = train_mle_estimator(train_images, train_labels)\n",
        "\n",
        "  fig = plt.figure(1)\n",
        "  fig.clf()\n",
        "  ax = fig.add_subplot(111)\n",
        "  plot_images(theta_mle, ax)"
      ],
      "execution_count": 0,
      "outputs": [
        {
          "output_type": "execute_result",
          "data": {
            "text/plain": [
              "<matplotlib.image.AxesImage at 0x7efc7a9f4668>"
            ]
          },
          "metadata": {
            "tags": []
          },
          "execution_count": 99
        },
        {
          "output_type": "display_data",
          "data": {
            "image/png": "[encoded data removed]",
            "text/plain": [
              "<Figure size 432x288 with 1 Axes>"
            ]
          },
          "metadata": {
            "tags": []
          }
        }
      ]
    },
    {
      "cell_type": "markdown",
      "metadata": {
        "id": "vNpqcFlTgxZi",
        "colab_type": "text"
      },
      "source": [
        "##（e)\n"
      ]
    },
    {
      "cell_type": "markdown",
      "metadata": {
        "id": "76AqUvICsD7w",
        "colab_type": "text"
      },
      "source": [
        "![替代文字](https://drive.google.com/uc?id=1zIefOIde0z7aJ0iw_xbsjV4T3E7TI71e)"
      ]
    },
    {
      "cell_type": "code",
      "metadata": {
        "id": "2LDWAtbEq5Kc",
        "colab_type": "code",
        "colab": {}
      },
      "source": [
        "def train_map_estimator(train_images, train_labels):\n",
        "    \"\"\" Inputs: train_images, train_labels\n",
        "        Returns the MAP estimators theta_map and pi_map\"\"\"\n",
        "    N, D = train_images.shape\n",
        "    theta_mle = np.zeros((10, D))\n",
        "    pi_mle = np.zeros(10)\n",
        "\n",
        "    for i in range(10):\n",
        "      pi_mle[i] = sum(train_labels[:, i]) / N\n",
        "\n",
        "    for c in range(10):\n",
        "        for d in range(D):\n",
        "            theta_mle[c][d] = (1 + (np.sum(np.where((train_images[:, d] == 1) & (train_labels[:, c] == 1),\n",
        "                 1, 0))))/ (2 + (np.sum(train_labels[:, c])))\n",
        "\n",
        "    return theta_mle, pi_mle"
      ],
      "execution_count": 0,
      "outputs": []
    },
    {
      "cell_type": "markdown",
      "metadata": {
        "id": "HNDMvZI6C2U0",
        "colab_type": "text"
      },
      "source": [
        "##   (f)\n",
        "Similar to question c, derive average log-likelihood per data point and and the accuracy on both the training and test set."
      ]
    },
    {
      "cell_type": "code",
      "metadata": {
        "id": "darcb2kzCnrx",
        "colab_type": "code",
        "outputId": "c78341eb-2aa5-4a3e-fcf0-0c5d231346d0",
        "colab": {
          "base_uri": "https://localhost:8080/",
          "height": 85
        }
      },
      "source": [
        "def predict(log_like):\n",
        "    \"\"\" Inputs: matrix of log likelihoods\n",
        "    Returns the predictions based on log likelihood values\"\"\"\n",
        "    return np.argmax(log_like, axis=1)\n",
        "\n",
        "\n",
        "def accuracy(log_like, labels):\n",
        "    \"\"\" Inputs: matrix of log likelihoods and 1-of-K labels\n",
        "    Returns the accuracy based on predictions from log likelihood values\"\"\"\n",
        "    prediction = predict(log_like)\n",
        "    return np.mean(prediction == np.argmax(labels, axis = 1))\n",
        "\n",
        "if __name__ == '__main__':\n",
        "    N_data, train_images, train_labels, test_images, test_labels = load_mnist()\n",
        "    theta_map, pi_map = train_map_estimator(train_images, train_labels)\n",
        "    loglike_train_map = log_likelihood(train_images, theta_map, pi_map, train_labels)\n",
        "    avg_loglike_map = np.sum(loglike_train_map * train_labels) / N_data\n",
        "    print(\"Average log-likelihood for MAP is \", avg_loglike_map)\n",
        "    print(\"LOADED TRAIN LABEL \", train_labels.shape)\n",
        "    train_accuracy_map = accuracy(loglike_train_map, train_labels)\n",
        "    loglike_test_map = log_likelihood(test_images, theta_map, pi_map, test_labels)\n",
        "    test_accuracy_map = accuracy(loglike_test_map, test_labels)\n",
        "\n",
        "    print(\"Training accuracy for MAP is \", train_accuracy_map)\n",
        "    print(\"Test accuracy for MAP is \", test_accuracy_map)"
      ],
      "execution_count": 0,
      "outputs": [
        {
          "output_type": "stream",
          "text": [
            "Average log-likelihood for MAP is  -3.3558565594023526\n",
            "LOADED TRAIN LABEL  (60000, 10)\n",
            "Training accuracy for MAP is  0.8357666666666667\n",
            "Test accuracy for MAP is  0.816\n"
          ],
          "name": "stdout"
        }
      ]
    },
    {
      "cell_type": "markdown",
      "metadata": {
        "id": "5iuv8cqXVZdR",
        "colab_type": "text"
      },
      "source": [
        "## (g)"
      ]
    },
    {
      "cell_type": "code",
      "metadata": {
        "id": "EpvDrq7UV42i",
        "colab_type": "code",
        "outputId": "33d36be0-610d-4e25-e1fc-2333b92ae02a",
        "colab": {
          "base_uri": "https://localhost:8080/",
          "height": 178
        }
      },
      "source": [
        "if __name__ == '__main__': \n",
        "  N_data, train_images, train_labels, test_images, test_labels = load_mnist()\n",
        "  theta_map, pi_map = train_map_estimator(train_images, train_labels)\n",
        "\n",
        "  fig = plt.figure(1)\n",
        "  fig.clf()\n",
        "  ax = fig.add_subplot(111)\n",
        "  plot_images(theta_map, ax)"
      ],
      "execution_count": 0,
      "outputs": [
        {
          "output_type": "display_data",
          "data": {
            "image/png": "[encoded data removed]",
            "text/plain": [
              "<Figure size 432x288 with 1 Axes>"
            ]
          },
          "metadata": {
            "tags": []
          }
        }
      ]
    },
    {
      "cell_type": "markdown",
      "metadata": {
        "id": "sYqSX6xfWxjM",
        "colab_type": "text"
      },
      "source": [
        "# Question 2"
      ]
    },
    {
      "cell_type": "markdown",
      "metadata": {
        "id": "Bo_EaxVMXteh",
        "colab_type": "text"
      },
      "source": [
        "## (a) \n",
        "## True\n",
        "###  Reason:\n",
        " Accoding to the Naïve Bayes model assumption, this statement is true."
      ]
    },
    {
      "cell_type": "markdown",
      "metadata": {
        "id": "p6Hcj5BBZWFY",
        "colab_type": "text"
      },
      "source": [
        "## (b)\n",
        "## False\n",
        "### Reason: \n",
        "Because $p\\left(x_{i}, x_{j}\\right)=\\sum_{c} p\\left(x_{i}, x_{j} | c\\right)=\\sum_{c} p\\left(x_{i} | c\\right) p\\left(x_{j} | c\\right)$ and $p\\left(x_{i}\\right) p(x_{j})=\\sum_{c} p\\left(x_{i} | c\\right) \\sum_{c} p(x_{j} | c)$, we could state that $p\\left(x_{i}, x_{j}\\right) \\neq p\\left(x_{i}\\right) p(x_{j})$. Therefore, the statement that any two pixels $x_i$ and $x_j$ where $i \\neq j$ are\n",
        "independent after marginalizing over c is False. "
      ]
    },
    {
      "cell_type": "markdown",
      "metadata": {
        "id": "jL2U1tK5bTZI",
        "colab_type": "text"
      },
      "source": [
        "## (c)"
      ]
    },
    {
      "cell_type": "code",
      "metadata": {
        "id": "srUP8WZ3cRlS",
        "colab_type": "code",
        "outputId": "22a3c0be-4838-48b5-f3fb-6e65a5a41339",
        "colab": {
          "base_uri": "https://localhost:8080/",
          "height": 195
        }
      },
      "source": [
        "def image_sampler(theta, pi, num_images):\n",
        "    \"\"\" Inputs: parameters theta and pi, and number of images to sample\n",
        "    Returns the sampled images\"\"\"\n",
        "\n",
        "    sampled_images = np.ndarray(shape = (10, 784))\n",
        "    c = np.random.choice(10, 10, p=pi)\n",
        "    print(\"random c: \", c)\n",
        "    for i in range(num_images):\n",
        "        sampled_images[i] = np.random.binomial(n=1, p=theta[c[i]])\n",
        "    return sampled_images\n",
        "\n",
        "if __name__ == '__main__':\n",
        "    N_data, train_images, train_labels, test_images, test_labels = load_mnist()\n",
        "    theta_map, pi_map = train_map_estimator(train_images, train_labels)\n",
        "    sampled_images = image_sampler(theta_map, pi_map, 10)\n",
        "\n",
        "    fig = plt.figure(1)\n",
        "    fig.clf()\n",
        "    ax = fig.add_subplot(111)\n",
        "    plot_images(sampled_images, ax)"
      ],
      "execution_count": 0,
      "outputs": [
        {
          "output_type": "stream",
          "text": [
            "random c:  [6 2 3 0 6 4 1 3 9 7]\n"
          ],
          "name": "stdout"
        },
        {
          "output_type": "display_data",
          "data": {
            "image/png": "[encoded data removed]",
            "text/plain": [
              "<Figure size 432x288 with 1 Axes>"
            ]
          },
          "metadata": {
            "tags": []
          }
        }
      ]
    },
    {
      "cell_type": "markdown",
      "metadata": {
        "id": "URHPqBcMekAV",
        "colab_type": "text"
      },
      "source": [
        "# Question 3"
      ]
    },
    {
      "cell_type": "markdown",
      "metadata": {
        "id": "ddU7y0Z-e17Q",
        "colab_type": "text"
      },
      "source": [
        "## (a)"
      ]
    },
    {
      "cell_type": "code",
      "metadata": {
        "id": "BAfOUu6he5yg",
        "colab_type": "code",
        "colab": {}
      },
      "source": [
        "import matplotlib.pyplot as plt\n",
        "import numpy as np\n",
        "from sklearn.decomposition import PCA\n",
        "from sklearn.neighbors import KNeighborsClassifier\n",
        "from scipy.spatial import distance"
      ],
      "execution_count": 0,
      "outputs": []
    },
    {
      "cell_type": "code",
      "metadata": {
        "id": "KaabmEutfUOd",
        "colab_type": "code",
        "outputId": "b965539d-58a2-431f-a594-2b8c92c9bbf0",
        "colab": {
          "base_uri": "https://localhost:8080/",
          "height": 299
        }
      },
      "source": [
        "def load_data(filename, load2=True, load3=True):\n",
        "  \"\"\"Loads data for 2's and 3's\n",
        "  Inputs:\n",
        "    filename: Name of the file.\n",
        "    load2: If True, load data for 2's.\n",
        "    load3: If True, load data for 3's.\n",
        "  \"\"\"\n",
        "  assert (load2 or load3), \"Atleast one dataset must be loaded.\"\n",
        "  data = np.load(filename)\n",
        "  # print(data['train2'].shape)\n",
        "\n",
        "  if load2 and load3:\n",
        "    inputs_train = np.hstack((data['train2'], data['train3']))\n",
        "    inputs_valid = np.hstack((data['valid2'], data['valid3']))\n",
        "    inputs_test = np.hstack((data['test2'], data['test3']))\n",
        "    target_train = np.hstack((np.zeros((1, data['train2'].shape[1])), np.ones((1, data['train3'].shape[1]))))\n",
        "    target_valid = np.hstack((np.zeros((1, data['valid2'].shape[1])), np.ones((1, data['valid3'].shape[1]))))\n",
        "    target_test = np.hstack((np.zeros((1, data['test2'].shape[1])), np.ones((1, data['test3'].shape[1]))))\n",
        "  else:\n",
        "    if load2:\n",
        "      inputs_train = data['train2']\n",
        "      target_train = np.zeros((1, data['train2'].shape[1]))\n",
        "      inputs_valid = data['valid2']\n",
        "      target_valid = np.zeros((1, data['valid2'].shape[1]))\n",
        "      inputs_test = data['test2']\n",
        "      target_test = np.zeros((1, data['test2'].shape[1]))\n",
        "    else:\n",
        "      inputs_train = data['train3']\n",
        "      target_train = np.zeros((1, data['train3'].shape[1]))\n",
        "      inputs_valid = data['valid3']\n",
        "      target_valid = np.zeros((1, data['valid3'].shape[1]))\n",
        "      inputs_test = data['test3']\n",
        "      target_test = np.zeros((1, data['test3'].shape[1]))\n",
        "\n",
        "  return inputs_train.T, inputs_valid.T, inputs_test.T, target_train.T, target_valid.T, target_test.T\n",
        "\n",
        "if __name__ == '__main__':\n",
        "    path = '/content/drive/My Drive/Colab Notebooks/digits.npz'\n",
        "    inputs_train, inputs_valid, inputs_test, target_train, target_valid, target_test = load_data(path)\n",
        "    a = np.reshape(inputs_train[0], (16, 16))\n",
        "    plt.imshow(a, cmap = \"gray\")\n",
        "    plt.show()"
      ],
      "execution_count": 0,
      "outputs": [
        {
          "output_type": "stream",
          "text": [
            "(600, 256)\n",
            "(400, 256)\n"
          ],
          "name": "stdout"
        },
        {
          "output_type": "display_data",
          "data": {
            "image/png": "[encoded data removed]",
            "text/plain": [
              "<Figure size 432x288 with 1 Axes>"
            ]
          },
          "metadata": {
            "tags": []
          }
        }
      ]
    },
    {
      "cell_type": "code",
      "metadata": {
        "id": "Mu4h3ZzkffBB",
        "colab_type": "code",
        "outputId": "2f56d3ba-389e-4b2b-bafe-3882a8e45eea",
        "colab": {
          "base_uri": "https://localhost:8080/",
          "height": 451
        }
      },
      "source": [
        "inputs_target = np.hstack((np.zeros((300)), np.ones((300))))\n",
        "valid_target = np.hstack((np.zeros((100)), np.ones((100))))\n",
        "\n",
        "knn = KNeighborsClassifier(n_neighbors=1)\n",
        "\n",
        "inputs_train_mean = np.mean(inputs_train, axis=0)\n",
        "inputs_train_centered = inputs_train - np.tile(inputs_train_mean, (inputs_train.shape[0], 1))\n",
        "inputs_valid_centered = inputs_valid - np.tile(inputs_train_mean, (inputs_valid.shape[0], 1))\n",
        "\n",
        "cov_matrix = np.cov(inputs_train_centered.T)\n",
        "eigen_value, eigen_vector = np.linalg.eig(cov_matrix)\n",
        "k_list = [2, 5, 10, 20, 30]\n",
        "mismatch_list = []\n",
        "\n",
        "for item in k_list:\n",
        "    eigen_matrix = eigen_vector[:, 0: item]\n",
        "    inputs_train_recon = np.matmul(inputs_train_centered, eigen_matrix)\n",
        "    inputs_valid_recon = np.matmul(inputs_valid_centered, eigen_matrix)\n",
        "    knn.fit(inputs_train_recon, inputs_target)\n",
        "    inputs_valid_target_pred = knn.predict(inputs_valid_recon)\n",
        "\n",
        "    counter = 0\n",
        "    for i in range(200):\n",
        "        if inputs_valid_target_pred[i] != 0 and i <= 99:\n",
        "            counter += 1\n",
        "        elif inputs_valid_target_pred[i] != 1 and i >= 100:\n",
        "            counter += 1\n",
        "    mismatch_list.append(counter / 200)\n",
        "\n",
        "    print(\"WHEN K VALUE IS \", item, \" THE CLASSIFICATION ERROR RATE IS \", counter / 200)\n",
        "\n",
        "\n",
        "plt.plot(k_list, mismatch_list, label=\"mismatch_line\")\n",
        "plt.legend(loc=\"upper right\")\n",
        "plt.xlabel(r\"$k value$\")\n",
        "plt.ylabel(\"error rate\")\n",
        "plt.show()"
      ],
      "execution_count": 0,
      "outputs": [
        {
          "output_type": "stream",
          "text": [
            "(600, 2)\n",
            "WHEN K VALUE IS  2  THE CLASSIFICATION ERROR RATE IS  0.055\n",
            "(600, 5)\n",
            "WHEN K VALUE IS  5  THE CLASSIFICATION ERROR RATE IS  0.035\n",
            "(600, 10)\n",
            "WHEN K VALUE IS  10  THE CLASSIFICATION ERROR RATE IS  0.01\n",
            "(600, 20)\n",
            "WHEN K VALUE IS  20  THE CLASSIFICATION ERROR RATE IS  0.005\n",
            "(600, 30)\n",
            "WHEN K VALUE IS  30  THE CLASSIFICATION ERROR RATE IS  0.01\n"
          ],
          "name": "stdout"
        },
        {
          "output_type": "display_data",
          "data": {
            "image/png": "[encoded data removed]",
            "text/plain": [
              "<Figure size 432x288 with 1 Axes>"
            ]
          },
          "metadata": {
            "tags": []
          }
        }
      ]
    },
    {
      "cell_type": "markdown",
      "metadata": {
        "id": "Msz-PtNShs-O",
        "colab_type": "text"
      },
      "source": [
        "## (b)\n",
        "I would choose $K$ value at 20. Observe from the data above we notice that, when $K = 20$, the classification error reaches the lowerst point, which is $0.005$. When $K$ exceeds 20 the model would overfit, and it would learn some error into the system causing the classification rate rising. Therefore, I would choose model with $K$ value at 20. "
      ]
    },
    {
      "cell_type": "markdown",
      "metadata": {
        "id": "JCO8QykhjwqX",
        "colab_type": "text"
      },
      "source": [
        "## (c)\n",
        "\n"
      ]
    },
    {
      "cell_type": "code",
      "metadata": {
        "id": "vcr8P7y2keXU",
        "colab_type": "code",
        "outputId": "fa8f4634-1bb7-4b58-bafc-c6038c728404",
        "colab": {
          "base_uri": "https://localhost:8080/",
          "height": 366
        }
      },
      "source": [
        "test_target = np.hstack((np.zeros((200)), np.ones((200))))\n",
        "\n",
        "\n",
        "inputs_train_mean = np.mean(inputs_train, axis = 0)\n",
        "inputs_train_centered = inputs_train - np.tile(inputs_train_mean, (inputs_train.shape[0], 1))\n",
        "inputs_test_centered = inputs_test - np.tile(inputs_train_mean, (inputs_test.shape[0], 1))\n",
        "cov_matrix = np.cov(inputs_train_centered.T)\n",
        "eigen_value, eigen_vector = np.linalg.eig(cov_matrix)\n",
        "\n",
        "mismatch_list = []\n",
        "for item in k_list:\n",
        "    eigen_matrix = eigen_vector[:, 0: item]\n",
        "    inputs_train_recon = np.matmul(inputs_train_centered, eigen_matrix)\n",
        "    inputs_test_recon = np.matmul(inputs_test_centered, eigen_matrix)\n",
        "\n",
        "    knn.fit(inputs_train_recon, inputs_target)\n",
        "    inputs_test_target_pred = knn.predict(inputs_test_recon)\n",
        "\n",
        "    counter = 0\n",
        "    for i in range(400):\n",
        "        if inputs_test_target_pred[i] != test_target[i]:\n",
        "            counter += 1\n",
        "    mismatch_list.append(counter / 400)\n",
        "    print(\"WHEN K VALUE IS \", item, \" THE CLASSIFICATION ERROR RATE IS \", counter / 400)\n",
        "\n",
        "\n",
        "plt.plot(k_list, mismatch_list, label=\"mismatch_line\")\n",
        "plt.legend(loc=\"upper right\")\n",
        "plt.xlabel(r\"$k value$\")\n",
        "plt.ylabel(\"error rate\")\n",
        "plt.show()"
      ],
      "execution_count": 0,
      "outputs": [
        {
          "output_type": "stream",
          "text": [
            "WHEN K VALUE IS  2  THE CLASSIFICATION ERROR RATE IS  0.065\n",
            "WHEN K VALUE IS  5  THE CLASSIFICATION ERROR RATE IS  0.04\n",
            "WHEN K VALUE IS  10  THE CLASSIFICATION ERROR RATE IS  0.0125\n",
            "WHEN K VALUE IS  20  THE CLASSIFICATION ERROR RATE IS  0.01\n",
            "WHEN K VALUE IS  30  THE CLASSIFICATION ERROR RATE IS  0.0075\n"
          ],
          "name": "stdout"
        },
        {
          "output_type": "display_data",
          "data": {
            "image/png": "[encoded data removed]",
            "text/plain": [
              "<Figure size 432x288 with 1 Axes>"
            ]
          },
          "metadata": {
            "tags": []
          }
        }
      ]
    },
    {
      "cell_type": "markdown",
      "metadata": {
        "id": "aXzvTSfMDsFe",
        "colab_type": "text"
      },
      "source": [
        "In this way, we choose $K = 30$, where the classification error rate is the lowest, at 0.0075"
      ]
    }
  ]
}